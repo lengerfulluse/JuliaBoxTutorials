{
 "cells": [
  {
   "cell_type": "markdown",
   "metadata": {},
   "source": [
    "## Getting started with Jupyter notebooks\n",
    "\n",
    "### Running a cell\n",
    "To execute code within a cell, select that cell and either (1) hit `Shift` and `Enter` or (2) hit the run button (the right pointing arrow) above."
   ]
  },
  {
   "cell_type": "code",
   "execution_count": 3,
   "metadata": {},
   "outputs": [
    {
     "data": {
      "text/plain": [
       "4"
      ]
     },
     "execution_count": 3,
     "metadata": {},
     "output_type": "execute_result"
    }
   ],
   "source": [
    "1 + 1\n",
    "2 + 2"
   ]
  },
  {
   "cell_type": "markdown",
   "metadata": {},
   "source": [
    "If you're new to jupyter notebooks, note that only the last line of a cell prints by default when you execute that cell and that you can suppress this output with a semicolon"
   ]
  },
  {
   "cell_type": "code",
   "execution_count": 4,
   "metadata": {},
   "outputs": [],
   "source": [
    "1 + 1\n",
    "2 + 2;"
   ]
  },
  {
   "cell_type": "markdown",
   "metadata": {},
   "source": [
    "### How to get docs for Julia functions\n",
    "\n",
    "To get docs for a function you're not familiar with, precede it with a question mark. (This works at the REPL too!)"
   ]
  },
  {
   "cell_type": "code",
   "execution_count": 6,
   "metadata": {},
   "outputs": [
    {
     "name": "stdout",
     "output_type": "stream",
     "text": [
      "search: \u001b[0m\u001b[1mr\u001b[22m\u001b[0m\u001b[1me\u001b[22m\u001b[0m\u001b[1mp\u001b[22m\u001b[0m\u001b[1me\u001b[22m\u001b[0m\u001b[1ma\u001b[22m\u001b[0m\u001b[1mt\u001b[22m\n",
      "\n"
     ]
    },
    {
     "data": {
      "text/markdown": [
       "```\n",
       "repeat(A::AbstractArray, counts::Integer...)\n",
       "```\n",
       "\n",
       "Construct an array by repeating array `A` a given number of times in each dimension, specified by `counts`.\n",
       "\n",
       "# Examples\n",
       "\n",
       "```jldoctest\n",
       "julia> repeat([1, 2, 3], 2)\n",
       "6-element Array{Int64,1}:\n",
       " 1\n",
       " 2\n",
       " 3\n",
       " 1\n",
       " 2\n",
       " 3\n",
       "\n",
       "julia> repeat([1, 2, 3], 2, 3)\n",
       "6×3 Array{Int64,2}:\n",
       " 1  1  1\n",
       " 2  2  2\n",
       " 3  3  3\n",
       " 1  1  1\n",
       " 2  2  2\n",
       " 3  3  3\n",
       "```\n",
       "\n",
       "---\n",
       "\n",
       "```\n",
       "repeat(A::AbstractArray; inner=ntuple(x->1, ndims(A)), outer=ntuple(x->1, ndims(A)))\n",
       "```\n",
       "\n",
       "Construct an array by repeating the entries of `A`. The i-th element of `inner` specifies the number of times that the individual entries of the i-th dimension of `A` should be repeated. The i-th element of `outer` specifies the number of times that a slice along the i-th dimension of `A` should be repeated. If `inner` or `outer` are omitted, no repetition is performed.\n",
       "\n",
       "# Examples\n",
       "\n",
       "```jldoctest\n",
       "julia> repeat(1:2, inner=2)\n",
       "4-element Array{Int64,1}:\n",
       " 1\n",
       " 1\n",
       " 2\n",
       " 2\n",
       "\n",
       "julia> repeat(1:2, outer=2)\n",
       "4-element Array{Int64,1}:\n",
       " 1\n",
       " 2\n",
       " 1\n",
       " 2\n",
       "\n",
       "julia> repeat([1 2; 3 4], inner=(2, 1), outer=(1, 3))\n",
       "4×6 Array{Int64,2}:\n",
       " 1  2  1  2  1  2\n",
       " 1  2  1  2  1  2\n",
       " 3  4  3  4  3  4\n",
       " 3  4  3  4  3  4\n",
       "```\n",
       "\n",
       "---\n",
       "\n",
       "```\n",
       "repeat(s::AbstractString, r::Integer)\n",
       "```\n",
       "\n",
       "Repeat a string `r` times. This can be written as `s^r`.\n",
       "\n",
       "See also: [`^`](@ref)\n",
       "\n",
       "# Examples\n",
       "\n",
       "```jldoctest\n",
       "julia> repeat(\"ha\", 3)\n",
       "\"hahaha\"\n",
       "```\n",
       "\n",
       "---\n",
       "\n",
       "```\n",
       "repeat(c::AbstractChar, r::Integer) -> String\n",
       "```\n",
       "\n",
       "Repeat a character `r` times. This can equivalently be accomplished by calling [`c^r`](@ref ^).\n",
       "\n",
       "# Examples\n",
       "\n",
       "```jldoctest\n",
       "julia> repeat('A', 3)\n",
       "\"AAA\"\n",
       "```\n"
      ],
      "text/plain": [
       "\u001b[36m  repeat(A::AbstractArray, counts::Integer...)\u001b[39m\n",
       "\n",
       "  Construct an array by repeating array \u001b[36mA\u001b[39m a given number of times in each\n",
       "  dimension, specified by \u001b[36mcounts\u001b[39m.\n",
       "\n",
       "\u001b[1m  Examples\u001b[22m\n",
       "\u001b[1m  ≡≡≡≡≡≡≡≡≡≡\u001b[22m\n",
       "\n",
       "\u001b[36m  julia> repeat([1, 2, 3], 2)\u001b[39m\n",
       "\u001b[36m  6-element Array{Int64,1}:\u001b[39m\n",
       "\u001b[36m   1\u001b[39m\n",
       "\u001b[36m   2\u001b[39m\n",
       "\u001b[36m   3\u001b[39m\n",
       "\u001b[36m   1\u001b[39m\n",
       "\u001b[36m   2\u001b[39m\n",
       "\u001b[36m   3\u001b[39m\n",
       "\u001b[36m  \u001b[39m\n",
       "\u001b[36m  julia> repeat([1, 2, 3], 2, 3)\u001b[39m\n",
       "\u001b[36m  6×3 Array{Int64,2}:\u001b[39m\n",
       "\u001b[36m   1  1  1\u001b[39m\n",
       "\u001b[36m   2  2  2\u001b[39m\n",
       "\u001b[36m   3  3  3\u001b[39m\n",
       "\u001b[36m   1  1  1\u001b[39m\n",
       "\u001b[36m   2  2  2\u001b[39m\n",
       "\u001b[36m   3  3  3\u001b[39m\n",
       "\n",
       "  ────────────────────────────────────────────────────────────────────────────\n",
       "\n",
       "\u001b[36m  repeat(A::AbstractArray; inner=ntuple(x->1, ndims(A)), outer=ntuple(x->1, ndims(A)))\u001b[39m\n",
       "\n",
       "  Construct an array by repeating the entries of \u001b[36mA\u001b[39m. The i-th element of \u001b[36minner\u001b[39m\n",
       "  specifies the number of times that the individual entries of the i-th\n",
       "  dimension of \u001b[36mA\u001b[39m should be repeated. The i-th element of \u001b[36mouter\u001b[39m specifies the\n",
       "  number of times that a slice along the i-th dimension of \u001b[36mA\u001b[39m should be\n",
       "  repeated. If \u001b[36minner\u001b[39m or \u001b[36mouter\u001b[39m are omitted, no repetition is performed.\n",
       "\n",
       "\u001b[1m  Examples\u001b[22m\n",
       "\u001b[1m  ≡≡≡≡≡≡≡≡≡≡\u001b[22m\n",
       "\n",
       "\u001b[36m  julia> repeat(1:2, inner=2)\u001b[39m\n",
       "\u001b[36m  4-element Array{Int64,1}:\u001b[39m\n",
       "\u001b[36m   1\u001b[39m\n",
       "\u001b[36m   1\u001b[39m\n",
       "\u001b[36m   2\u001b[39m\n",
       "\u001b[36m   2\u001b[39m\n",
       "\u001b[36m  \u001b[39m\n",
       "\u001b[36m  julia> repeat(1:2, outer=2)\u001b[39m\n",
       "\u001b[36m  4-element Array{Int64,1}:\u001b[39m\n",
       "\u001b[36m   1\u001b[39m\n",
       "\u001b[36m   2\u001b[39m\n",
       "\u001b[36m   1\u001b[39m\n",
       "\u001b[36m   2\u001b[39m\n",
       "\u001b[36m  \u001b[39m\n",
       "\u001b[36m  julia> repeat([1 2; 3 4], inner=(2, 1), outer=(1, 3))\u001b[39m\n",
       "\u001b[36m  4×6 Array{Int64,2}:\u001b[39m\n",
       "\u001b[36m   1  2  1  2  1  2\u001b[39m\n",
       "\u001b[36m   1  2  1  2  1  2\u001b[39m\n",
       "\u001b[36m   3  4  3  4  3  4\u001b[39m\n",
       "\u001b[36m   3  4  3  4  3  4\u001b[39m\n",
       "\n",
       "  ────────────────────────────────────────────────────────────────────────────\n",
       "\n",
       "\u001b[36m  repeat(s::AbstractString, r::Integer)\u001b[39m\n",
       "\n",
       "  Repeat a string \u001b[36mr\u001b[39m times. This can be written as \u001b[36ms^r\u001b[39m.\n",
       "\n",
       "  See also: \u001b[36m^\u001b[39m\n",
       "\n",
       "\u001b[1m  Examples\u001b[22m\n",
       "\u001b[1m  ≡≡≡≡≡≡≡≡≡≡\u001b[22m\n",
       "\n",
       "\u001b[36m  julia> repeat(\"ha\", 3)\u001b[39m\n",
       "\u001b[36m  \"hahaha\"\u001b[39m\n",
       "\n",
       "  ────────────────────────────────────────────────────────────────────────────\n",
       "\n",
       "\u001b[36m  repeat(c::AbstractChar, r::Integer) -> String\u001b[39m\n",
       "\n",
       "  Repeat a character \u001b[36mr\u001b[39m times. This can equivalently be accomplished by calling\n",
       "  \u001b[36mc^r\u001b[39m.\n",
       "\n",
       "\u001b[1m  Examples\u001b[22m\n",
       "\u001b[1m  ≡≡≡≡≡≡≡≡≡≡\u001b[22m\n",
       "\n",
       "\u001b[36m  julia> repeat('A', 3)\u001b[39m\n",
       "\u001b[36m  \"AAA\"\u001b[39m"
      ]
     },
     "execution_count": 6,
     "metadata": {},
     "output_type": "execute_result"
    }
   ],
   "source": [
    "?repeat"
   ]
  },
  {
   "cell_type": "markdown",
   "metadata": {},
   "source": [
    "### How to use shell commands\n",
    "\n",
    "Type `;` and then you can use shell commands. For example,"
   ]
  },
  {
   "cell_type": "code",
   "execution_count": 7,
   "metadata": {},
   "outputs": [
    {
     "name": "stdout",
     "output_type": "stream",
     "text": [
      "00. Jupyter_notebooks.ipynb\n",
      "01. Getting started.ipynb\n",
      "02. Strings.ipynb\n",
      "03. Data structures.ipynb\n",
      "04. Loops.ipynb\n",
      "05. Conditionals.ipynb\n",
      "06. Functions.ipynb\n",
      "07. Packages.ipynb\n",
      "08. Plotting.ipynb\n",
      "09. Julia is fast.ipynb\n",
      "10. Multiple dispatch.ipynb\n",
      "10.1 Multiple dispatch.ipynb\n",
      "11. Basic linear algebra.ipynb\n",
      "12. Factorizations and other fun.ipynb\n",
      "AutoDiff.ipynb\n",
      "Exercise_solutions.ipynb\n",
      "Exploring_benchmarking_and_performance.ipynb\n",
      "Exploring_benchmarking_and_performance_solutions.ipynb\n",
      "LICENSE.md\n",
      "Local_installations.ipynb\n",
      "README.md\n",
      "Reduce and Parallel Prefix - JuliaBox.ipynb\n",
      "Working with matrices.ipynb\n",
      "calculate_pi.ipynb\n",
      "calculate_pi_solution.ipynb\n",
      "compressing_an_image.ipynb\n",
      "compressing_an_image_solutions.ipynb\n",
      "create_a_caesar_cipher.ipynb\n",
      "create_a_caesar_cipher_solutions.ipynb\n",
      "derfunc.gif\n",
      "images\n",
      "short-version\n"
     ]
    }
   ],
   "source": [
    ";ls"
   ]
  },
  {
   "cell_type": "code",
   "execution_count": 8,
   "metadata": {},
   "outputs": [
    {
     "name": "stdout",
     "output_type": "stream",
     "text": [
      "/Users/weheng/Documents/workplace/JuliaBoxTutorials/intro-to-julia\n"
     ]
    }
   ],
   "source": [
    ";pwd"
   ]
  },
  {
   "cell_type": "markdown",
   "metadata": {
    "collapsed": true
   },
   "source": [
    "Shell commands also work at the REPL!"
   ]
  },
  {
   "cell_type": "code",
   "execution_count": 9,
   "metadata": {},
   "outputs": [
    {
     "data": {
      "text/plain": [
       "4×6 Array{Int64,2}:\n",
       " 1  2  1  2  1  2\n",
       " 1  2  1  2  1  2\n",
       " 3  4  3  4  3  4\n",
       " 3  4  3  4  3  4"
      ]
     },
     "execution_count": 9,
     "metadata": {},
     "output_type": "execute_result"
    }
   ],
   "source": [
    "repeat([1 2; 3 4], inner=(2, 1), outer=(1, 3))"
   ]
  },
  {
   "cell_type": "code",
   "execution_count": null,
   "metadata": {},
   "outputs": [],
   "source": []
  }
 ],
 "metadata": {
  "kernelspec": {
   "display_name": "Julia 1.0.0",
   "language": "julia",
   "name": "julia-1.0"
  },
  "language_info": {
   "file_extension": ".jl",
   "mimetype": "application/julia",
   "name": "julia",
   "version": "1.0.0"
  }
 },
 "nbformat": 4,
 "nbformat_minor": 2
}
